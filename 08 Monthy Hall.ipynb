{
 "cells": [
  {
   "cell_type": "code",
   "execution_count": 2,
   "id": "220fbfbd-45e3-4b06-a8d4-0d32f2c4db1c",
   "metadata": {},
   "outputs": [
    {
     "name": "stdout",
     "output_type": "stream",
     "text": [
      "Ganar cambiando: 6709 veces (67.09%)\n",
      "Ganar quedándose: 3291 veces (32.91%)\n"
     ]
    }
   ],
   "source": [
    "import random\n",
    "\n",
    "def monty_hall(simulaciones=10000):\n",
    "    cambiar_gana = 0\n",
    "    quedarse_gana = 0\n",
    "\n",
    "    for _ in range(simulaciones):\n",
    "        # Paso 1: Colocar el premio detrás de una de las tres puertas\n",
    "        puertas = [0, 1, 2]\n",
    "        premio = random.choice(puertas)\n",
    "\n",
    "        # Paso 2: El jugador elige una puerta al azar\n",
    "        eleccion_jugador = random.choice(puertas)\n",
    "\n",
    "        # Paso 3: Monty abre una puerta con cabra (que no sea la elegida ni la del premio)\n",
    "        puertas_restantes = [p for p in puertas if p != eleccion_jugador and p != premio]\n",
    "        puerta_abierta = random.choice(puertas_restantes)\n",
    "\n",
    "        # Paso 4: Si el jugador cambia, elige la otra puerta cerrada\n",
    "        decision = [p for p in puertas if p != eleccion_jugador and p != puerta_abierta][0]\n",
    "\n",
    "        # Verificamos si gana cambiando\n",
    "        if decision == premio:\n",
    "            cambiar_gana += 1\n",
    "        else:\n",
    "            quedarse_gana += 1\n",
    "\n",
    "    print(f\"Ganar cambiando: {cambiar_gana} veces ({cambiar_gana/simulaciones:.2%})\")\n",
    "    print(f\"Ganar quedándose: {quedarse_gana} veces ({quedarse_gana/simulaciones:.2%})\")\n",
    "\n",
    "monty_hall()"
   ]
  },
  {
   "cell_type": "code",
   "execution_count": 4,
   "id": "5e540e0f-8214-430d-9855-eb661fb1c86f",
   "metadata": {},
   "outputs": [
    {
     "name": "stdout",
     "output_type": "stream",
     "text": [
      "Ganar cambiando: 6679 veces (66.79%)\n",
      "Ganar quedándose: 3376 veces (33.76%)\n"
     ]
    }
   ],
   "source": [
    "# otra forma\n",
    "import random\n",
    "\n",
    "def colocar_premio():\n",
    "    return random.randint(0, 2)\n",
    "\n",
    "def elegir_puerta():\n",
    "    return random.randint(0, 2)\n",
    "\n",
    "def abrir_puerta(premio, eleccion):\n",
    "    opciones = [i for i in range(3) if i != eleccion and i != premio]\n",
    "    return random.choice(opciones)\n",
    "\n",
    "def cambiar_puerta(eleccion, puerta_abierta):\n",
    "    return [i for i in range(3) if i != eleccion and i != puerta_abierta][0]\n",
    "\n",
    "def simular_juego(cambiar=True):\n",
    "    premio = colocar_premio()\n",
    "    eleccion = elegir_puerta()\n",
    "    puerta_abierta = abrir_puerta(premio, eleccion)\n",
    "    final = cambiar_puerta(eleccion, puerta_abierta) if cambiar else eleccion\n",
    "    return final == premio\n",
    "\n",
    "def correr_simulaciones(n=10000):\n",
    "    gana_cambiando = sum(simular_juego(cambiar=True) for _ in range(n))\n",
    "    gana_quedando = sum(simular_juego(cambiar=False) for _ in range(n))\n",
    "\n",
    "    print(f\"Ganar cambiando: {gana_cambiando} veces ({gana_cambiando/n:.2%})\")\n",
    "    print(f\"Ganar quedándose: {gana_quedando} veces ({gana_quedando/n:.2%})\")\n",
    "\n",
    "correr_simulaciones()\n"
   ]
  },
  {
   "cell_type": "code",
   "execution_count": 6,
   "id": "2c15d6f4-28fb-4760-ad7f-758bfdface5d",
   "metadata": {},
   "outputs": [
    {
     "name": "stdout",
     "output_type": "stream",
     "text": [
      "Ganar cambiando: 6568 veces (65.68%)\n",
      "Ganar quedándose: 3432 veces (34.32%)\n"
     ]
    }
   ],
   "source": [
    "# usando probabilidad\n",
    "import random\n",
    "\n",
    "def monty_hall_simple(n=10000):\n",
    "    gana_si_cambia = 0\n",
    "\n",
    "    for _ in range(n):\n",
    "        premio = random.randint(0, 2)\n",
    "        eleccion = random.randint(0, 2)\n",
    "        if eleccion != premio:\n",
    "            # Cambiar llevaría al premio\n",
    "            gana_si_cambia += 1\n",
    "\n",
    "    print(f\"Ganar cambiando: {gana_si_cambia} veces ({gana_si_cambia/n:.2%})\")\n",
    "    print(f\"Ganar quedándose: {n - gana_si_cambia} veces ({(n - gana_si_cambia)/n:.2%})\")\n",
    "\n",
    "monty_hall_simple()\n"
   ]
  },
  {
   "cell_type": "code",
   "execution_count": null,
   "id": "c9cbfe93-8aa4-4fd5-84c5-9c42d2fe37ba",
   "metadata": {},
   "outputs": [],
   "source": []
  }
 ],
 "metadata": {
  "kernelspec": {
   "display_name": "Python [conda env:base] *",
   "language": "python",
   "name": "conda-base-py"
  },
  "language_info": {
   "codemirror_mode": {
    "name": "ipython",
    "version": 3
   },
   "file_extension": ".py",
   "mimetype": "text/x-python",
   "name": "python",
   "nbconvert_exporter": "python",
   "pygments_lexer": "ipython3",
   "version": "3.12.7"
  }
 },
 "nbformat": 4,
 "nbformat_minor": 5
}
